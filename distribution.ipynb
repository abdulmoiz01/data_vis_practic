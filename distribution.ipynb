{
 "cells": [
  {
   "cell_type": "code",
   "execution_count": 1,
   "metadata": {},
   "outputs": [],
   "source": [
    "import pandas as pd\n",
    "import numpy as np\n",
    "import matplotlib.pyplot as plt"
   ]
  },
  {
   "cell_type": "code",
   "execution_count": 2,
   "metadata": {},
   "outputs": [],
   "source": [
    "df=np.array([567,572,572,589,614,\n",
    "616,\n",
    "628,\n",
    "645,\n",
    "650,\n",
    "652,\n",
    "657,\n",
    "661,\n",
    "666,\n",
    "668,\n",
    "669,\n",
    "675,\n",
    "676,\n",
    "686,\n",
    "694,\n",
    "698,\n",
    "706,\n",
    "706,\n",
    "708,\n",
    "711,\n",
    "714,\n",
    "716,\n",
    "722,\n",
    "728,\n",
    "729,\n",
    "729,\n",
    "730,\n",
    "732,\n",
    "735,\n",
    "737,\n",
    "737,\n",
    "738,\n",
    "740,\n",
    "741,\n",
    "744,\n",
    "747,\n",
    "748,\n",
    "748,\n",
    "749,\n",
    "750,\n",
    "752,\n",
    "755,\n",
    "755,\n",
    "758,\n",
    "761,\n",
    "764,\n",
    "769,\n",
    "775,\n",
    "781,\n",
    "782,\n",
    "786,\n",
    "793,\n",
    "793,\n",
    "795,\n",
    "798,\n",
    "799,\n",
    "800,\n",
    "800,\n",
    "811,\n",
    "812,\n",
    "814,\n",
    "814,\n",
    "815,\n",
    "818,\n",
    "819,\n",
    "821,\n",
    "821,\n",
    "826,\n",
    "829,\n",
    "841,\n",
    "842,\n",
    "843,\n",
    "850,\n",
    "875,\n",
    "879,\n",
    "897,\n",
    "])"
   ]
  },
  {
   "cell_type": "code",
   "execution_count": 3,
   "metadata": {},
   "outputs": [],
   "source": [
    "data=np.mean([567,572,572,589,614,\n",
    "616,\n",
    "628,\n",
    "645,\n",
    "650,\n",
    "652,\n",
    "657,\n",
    "661,\n",
    "666,\n",
    "668,\n",
    "669,\n",
    "675,\n",
    "676,\n",
    "686,\n",
    "694,\n",
    "698,\n",
    "706,\n",
    "706,\n",
    "708,\n",
    "711,\n",
    "714,\n",
    "716,\n",
    "722,\n",
    "728,\n",
    "729,\n",
    "729,\n",
    "730,\n",
    "732,\n",
    "735,\n",
    "737,\n",
    "737,\n",
    "738,\n",
    "740,\n",
    "741,\n",
    "744,\n",
    "747,\n",
    "748,\n",
    "748,\n",
    "749,\n",
    "750,\n",
    "752,\n",
    "755,\n",
    "755,\n",
    "758,\n",
    "761,\n",
    "764,\n",
    "769,\n",
    "775,\n",
    "781,\n",
    "782,\n",
    "786,\n",
    "793,\n",
    "793,\n",
    "795,\n",
    "798,\n",
    "799,\n",
    "800,\n",
    "800,\n",
    "811,\n",
    "812,\n",
    "814,\n",
    "814,\n",
    "815,\n",
    "818,\n",
    "819,\n",
    "821,\n",
    "821,\n",
    "826,\n",
    "829,\n",
    "841,\n",
    "842,\n",
    "843,\n",
    "850,\n",
    "875,\n",
    "879,\n",
    "897,\n",
    "])"
   ]
  },
  {
   "cell_type": "code",
   "execution_count": 4,
   "metadata": {},
   "outputs": [
    {
     "data": {
      "text/plain": [
       "array([567, 572, 572, 589, 614, 616, 628, 645, 650, 652, 657, 661, 666,\n",
       "       668, 669, 675, 676, 686, 694, 698, 706, 706, 708, 711, 714, 716,\n",
       "       722, 728, 729, 729, 730, 732, 735, 737, 737, 738, 740, 741, 744,\n",
       "       747, 748, 748, 749, 750, 752, 755, 755, 758, 761, 764, 769, 775,\n",
       "       781, 782, 786, 793, 793, 795, 798, 799, 800, 800, 811, 812, 814,\n",
       "       814, 815, 818, 819, 821, 821, 826, 829, 841, 842, 843, 850, 875,\n",
       "       879, 897])"
      ]
     },
     "execution_count": 4,
     "metadata": {},
     "output_type": "execute_result"
    }
   ],
   "source": [
    "df"
   ]
  },
  {
   "cell_type": "code",
   "execution_count": 5,
   "metadata": {},
   "outputs": [
    {
     "data": {
      "text/plain": [
       "743.0375"
      ]
     },
     "execution_count": 5,
     "metadata": {},
     "output_type": "execute_result"
    }
   ],
   "source": [
    "data"
   ]
  },
  {
   "cell_type": "code",
   "execution_count": 6,
   "metadata": {},
   "outputs": [
    {
     "data": {
      "text/plain": [
       "73.57843497758022"
      ]
     },
     "execution_count": 6,
     "metadata": {},
     "output_type": "execute_result"
    }
   ],
   "source": [
    "df.std()"
   ]
  },
  {
   "cell_type": "code",
   "execution_count": 7,
   "metadata": {},
   "outputs": [],
   "source": [
    "df_sub_data=df-data"
   ]
  },
  {
   "cell_type": "code",
   "execution_count": 8,
   "metadata": {
    "scrolled": true
   },
   "outputs": [
    {
     "data": {
      "text/plain": [
       "-2.2737367544323207e-14"
      ]
     },
     "execution_count": 8,
     "metadata": {},
     "output_type": "execute_result"
    }
   ],
   "source": [
    "np.mean([df_sub_data])"
   ]
  },
  {
   "cell_type": "code",
   "execution_count": 9,
   "metadata": {},
   "outputs": [],
   "source": [
    "std=df_sub_data.std()"
   ]
  },
  {
   "cell_type": "code",
   "execution_count": 10,
   "metadata": {},
   "outputs": [],
   "source": [
    "standard=df_sub_data/std"
   ]
  },
  {
   "cell_type": "code",
   "execution_count": 11,
   "metadata": {},
   "outputs": [
    {
     "data": {
      "text/plain": [
       "array([-2.39251487, -2.32456018, -2.32456018, -2.09351422, -1.75374075,\n",
       "       -1.72655888, -1.56346761, -1.33242165, -1.26446696, -1.23728508,\n",
       "       -1.16933039, -1.11496663, -1.04701194, -1.01983006, -1.00623912,\n",
       "       -0.92469349, -0.91110255, -0.77519317, -0.66646566, -0.6121019 ,\n",
       "       -0.50337439, -0.50337439, -0.47619251, -0.4354197 , -0.39464688,\n",
       "       -0.36746501, -0.28591937, -0.20437374, -0.1907828 , -0.1907828 ,\n",
       "       -0.17719186, -0.15000999, -0.10923717, -0.08205529, -0.08205529,\n",
       "       -0.06846435, -0.04128248, -0.02769154,  0.01308128,  0.05385409,\n",
       "        0.06744503,  0.06744503,  0.08103597,  0.09462691,  0.12180879,\n",
       "        0.1625816 ,  0.1625816 ,  0.20335442,  0.24412724,  0.28490005,\n",
       "        0.35285475,  0.43440038,  0.51594601,  0.52953695,  0.5839007 ,\n",
       "        0.67903728,  0.67903728,  0.70621915,  0.74699197,  0.76058291,\n",
       "        0.77417385,  0.77417385,  0.92367417,  0.93726511,  0.96444699,\n",
       "        0.96444699,  0.97803793,  1.01881074,  1.03240168,  1.05958356,\n",
       "        1.05958356,  1.12753825,  1.16831107,  1.33140233,  1.34499327,\n",
       "        1.35858421,  1.45372078,  1.79349425,  1.847858  ,  2.0924949 ])"
      ]
     },
     "execution_count": 11,
     "metadata": {},
     "output_type": "execute_result"
    }
   ],
   "source": [
    "standard"
   ]
  },
  {
   "cell_type": "code",
   "execution_count": 12,
   "metadata": {},
   "outputs": [
    {
     "data": {
      "text/plain": [
       "-2.997602166487923e-16"
      ]
     },
     "execution_count": 12,
     "metadata": {},
     "output_type": "execute_result"
    }
   ],
   "source": [
    "mean=standard.mean()\n",
    "mean"
   ]
  },
  {
   "cell_type": "code",
   "execution_count": 13,
   "metadata": {},
   "outputs": [
    {
     "data": {
      "text/plain": [
       "1.0"
      ]
     },
     "execution_count": 13,
     "metadata": {},
     "output_type": "execute_result"
    }
   ],
   "source": [
    "std=standard.std()\n",
    "std"
   ]
  },
  {
   "cell_type": "code",
   "execution_count": 14,
   "metadata": {},
   "outputs": [],
   "source": [
    "import math"
   ]
  },
  {
   "cell_type": "code",
   "execution_count": 15,
   "metadata": {},
   "outputs": [],
   "source": [
    "w=17\n",
    "interval=math.ceil((df.max()-df.min())/w)"
   ]
  },
  {
   "cell_type": "code",
   "execution_count": 16,
   "metadata": {},
   "outputs": [
    {
     "data": {
      "text/plain": [
       "20"
      ]
     },
     "execution_count": 16,
     "metadata": {},
     "output_type": "execute_result"
    }
   ],
   "source": [
    "interval"
   ]
  },
  {
   "cell_type": "code",
   "execution_count": 17,
   "metadata": {},
   "outputs": [
    {
     "data": {
      "text/plain": [
       "(array([ 3.,  1.,  2.,  1.,  1.,  4.,  5.,  3.,  5.,  6., 11.,  8.,  3.,\n",
       "         5.,  8.,  7.,  3.,  1.,  2.,  1.]),\n",
       " array([567. , 583.5, 600. , 616.5, 633. , 649.5, 666. , 682.5, 699. ,\n",
       "        715.5, 732. , 748.5, 765. , 781.5, 798. , 814.5, 831. , 847.5,\n",
       "        864. , 880.5, 897. ]),\n",
       " <BarContainer object of 20 artists>)"
      ]
     },
     "execution_count": 17,
     "metadata": {},
     "output_type": "execute_result"
    },
    {
     "data": {
      "image/png": "[encoded data removed]",
      "text/plain": [
       "<Figure size 432x288 with 1 Axes>"
      ]
     },
     "metadata": {
      "needs_background": "light"
     },
     "output_type": "display_data"
    }
   ],
   "source": [
    "plt.hist(df,bins=interval)"
   ]
  },
  {
   "cell_type": "code",
   "execution_count": 31,
   "metadata": {},
   "outputs": [],
   "source": [
    "w=17\n",
    "interval=math.ceil((df_sub_data.max()-df_sub_data.min())/w)"
   ]
  },
  {
   "cell_type": "code",
   "execution_count": 32,
   "metadata": {},
   "outputs": [
    {
     "data": {
      "text/plain": [
       "(array([ 3.,  1.,  2.,  1.,  1.,  4.,  5.,  3.,  5.,  6., 11.,  8.,  3.,\n",
       "         5.,  8.,  7.,  3.,  1.,  2.,  1.]),\n",
       " array([-176.0375, -159.5375, -143.0375, -126.5375, -110.0375,  -93.5375,\n",
       "         -77.0375,  -60.5375,  -44.0375,  -27.5375,  -11.0375,    5.4625,\n",
       "          21.9625,   38.4625,   54.9625,   71.4625,   87.9625,  104.4625,\n",
       "         120.9625,  137.4625,  153.9625]),\n",
       " <BarContainer object of 20 artists>)"
      ]
     },
     "execution_count": 32,
     "metadata": {},
     "output_type": "execute_result"
    },
    {
     "data": {
      "image/png": "[encoded data removed]",
      "text/plain": [
       "<Figure size 432x288 with 1 Axes>"
      ]
     },
     "metadata": {
      "needs_background": "light"
     },
     "output_type": "display_data"
    }
   ],
   "source": [
    "plt.hist(df_sub_data,bins=interval)"
   ]
  },
  {
   "cell_type": "code",
   "execution_count": null,
   "metadata": {},
   "outputs": [],
   "source": []
  },
  {
   "cell_type": "code",
   "execution_count": 27,
   "metadata": {},
   "outputs": [],
   "source": [
    "w=.22\n",
    "interval2=math.ceil((standard.max()-standard.min())/w)"
   ]
  },
  {
   "cell_type": "code",
   "execution_count": 28,
   "metadata": {},
   "outputs": [
    {
     "data": {
      "text/plain": [
       "21"
      ]
     },
     "execution_count": 28,
     "metadata": {},
     "output_type": "execute_result"
    }
   ],
   "source": [
    "interval2"
   ]
  },
  {
   "cell_type": "code",
   "execution_count": 29,
   "metadata": {},
   "outputs": [
    {
     "data": {
      "text/plain": [
       "(array([ 3.,  1.,  1.,  2.,  1.,  4.,  5.,  1.,  5.,  4.,  9., 11.,  4.,\n",
       "         4.,  7.,  6.,  5.,  3.,  1.,  2.,  1.]),\n",
       " array([567.        , 582.71428571, 598.42857143, 614.14285714,\n",
       "        629.85714286, 645.57142857, 661.28571429, 677.        ,\n",
       "        692.71428571, 708.42857143, 724.14285714, 739.85714286,\n",
       "        755.57142857, 771.28571429, 787.        , 802.71428571,\n",
       "        818.42857143, 834.14285714, 849.85714286, 865.57142857,\n",
       "        881.28571429, 897.        ]),\n",
       " <BarContainer object of 21 artists>)"
      ]
     },
     "execution_count": 29,
     "metadata": {},
     "output_type": "execute_result"
    },
    {
     "data": {
      "image/png": "[encoded data removed]",
      "text/plain": [
       "<Figure size 432x288 with 1 Axes>"
      ]
     },
     "metadata": {
      "needs_background": "light"
     },
     "output_type": "display_data"
    }
   ],
   "source": [
    "plt.hist(df,bins=interval2)                                                                                                                                         "
   ]
  },
  {
   "cell_type": "code",
   "execution_count": null,
   "metadata": {},
   "outputs": [],
   "source": []
  },
  {
   "cell_type": "code",
   "execution_count": null,
   "metadata": {},
   "outputs": [],
   "source": []
  }
 ],
 "metadata": {
  "kernelspec": {
   "display_name": "Python 3",
   "language": "python",
   "name": "python3"
  },
  "language_info": {
   "codemirror_mode": {
    "name": "ipython",
    "version": 3
   },
   "file_extension": ".py",
   "mimetype": "text/x-python",
   "name": "python",
   "nbconvert_exporter": "python",
   "pygments_lexer": "ipython3",
   "version": "3.8.5"
  }
 },
 "nbformat": 4,
 "nbformat_minor": 4
}
